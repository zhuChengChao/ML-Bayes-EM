{
 "cells": [
  {
   "cell_type": "code",
   "execution_count": 2,
   "metadata": {},
   "outputs": [],
   "source": [
    "import numpy as np\n",
    "from time import time\n",
    "import matplotlib.pyplot as plt\n",
    "import matplotlib as mpl\n",
    "\n",
    "from sklearn.datasets import fetch_20newsgroups  # 引入新闻数据包\n",
    "from sklearn.feature_extraction.text import TfidfVectorizer  # 做tfidf编码\n",
    "from sklearn.feature_selection import SelectKBest, chi2  # 卡方检验——特征筛选\n",
    "from sklearn.linear_model import RidgeClassifier\n",
    "from sklearn.svm import LinearSVC, SVC\n",
    "from sklearn.naive_bayes import MultinomialNB, BernoulliNB  # 引入多项式和伯努利的贝叶斯\n",
    "from sklearn.neighbors import KNeighborsClassifier\n",
    "from sklearn.ensemble import RandomForestClassifier\n",
    "from sklearn.model_selection import GridSearchCV\n",
    "from sklearn import metrics"
   ]
  },
  {
   "cell_type": "code",
   "execution_count": 6,
   "metadata": {},
   "outputs": [],
   "source": [
    "## 设置属性防止中文乱码\n",
    "mpl.rcParams['font.sans-serif'] = [u'SimHei']\n",
    "mpl.rcParams['axes.unicode_minus'] = False"
   ]
  },
  {
   "cell_type": "code",
   "execution_count": 11,
   "metadata": {},
   "outputs": [
    {
     "name": "stdout",
     "output_type": "stream",
     "text": [
      "加载数据...\n",
      "完成数据加载过程.耗时:2.082s\n"
     ]
    }
   ],
   "source": [
    "### 数据加载\n",
    "print (u'加载数据...')\n",
    "t_start = time()\n",
    "## 不要头部信息\n",
    "remove = ('headers', 'footers', 'quotes')\n",
    "## 只要这四类数据\n",
    "categories = 'alt.atheism', 'talk.religion.misc', 'comp.graphics', 'sci.space'\n",
    "\n",
    "## 分别加载训练数据和测试数据\n",
    "data_train = fetch_20newsgroups(data_home='./datas/',subset='train', categories=categories, shuffle=True, random_state=0, remove=remove)\n",
    "# data_train = fetch_20newsgroups(data_home='./datas/',subset='train', categories=None, shuffle=True, random_state=0, remove=remove)\n",
    "data_test = fetch_20newsgroups(data_home='./datas/',subset='test', categories=categories, shuffle=True, random_state=0, remove=remove)\n",
    "\n",
    "## 完成\n",
    "print(u\"完成数据加载过程.耗时:%.3fs\" % (time() - t_start))"
   ]
  },
  {
   "cell_type": "code",
   "execution_count": 12,
   "metadata": {},
   "outputs": [
    {
     "name": "stdout",
     "output_type": "stream",
     "text": [
      "['alt.atheism', 'comp.graphics', 'sci.space', 'talk.religion.misc']\n"
     ]
    }
   ],
   "source": [
    "print(data_train.target_names)"
   ]
  },
  {
   "cell_type": "code",
   "execution_count": 14,
   "metadata": {},
   "outputs": [
    {
     "name": "stdout",
     "output_type": "stream",
     "text": [
      "数据类型： <class 'list'>\n",
      "2034文本数量 - 2.428MB (训练数据集)\n",
      "1353文本数量 - 1.800MB (测试数据集)\n",
      "训练集和测试集使用的4个类别的名称：\n",
      "['alt.atheism', 'comp.graphics', 'sci.space', 'talk.religion.misc']\n"
     ]
    }
   ],
   "source": [
    "### 获取加载数据的相关信息\n",
    "def size_mb(docs):\n",
    "    return sum(len(s.encode('utf-8')) for s in docs) / 1e6\n",
    "\n",
    "categories = data_train.target_names\n",
    "data_train_size_mb = size_mb(data_train.data)\n",
    "data_test_size_mb = size_mb(data_test.data)\n",
    "\n",
    "print (u'数据类型：', type(data_train.data))\n",
    "print(\"%d文本数量 - %0.3fMB (训练数据集)\" % (len(data_train.data), data_train_size_mb))\n",
    "print(\"%d文本数量 - %0.3fMB (测试数据集)\" % (len(data_test.data), data_test_size_mb))\n",
    "print (u'训练集和测试集使用的%d个类别的名称：' % len(categories))\n",
    "print(categories)"
   ]
  },
  {
   "cell_type": "code",
   "execution_count": 15,
   "metadata": {},
   "outputs": [],
   "source": [
    "### 数据重命名\n",
    "x_train = data_train.data\n",
    "y_train = data_train.target\n",
    "x_test = data_test.data\n",
    "y_test = data_test.target"
   ]
  },
  {
   "cell_type": "code",
   "execution_count": 22,
   "metadata": {
    "scrolled": true
   },
   "outputs": [
    {
     "name": "stdout",
     "output_type": "stream",
     "text": [
      " -- 前2个文本 -- \n",
      "文本1(属于类别 - alt.atheism)：\n",
      "If one is a vegan (a vegetarian taht eats no animal products at at i.e eggs, \n",
      "milk, cheese, etc., after about 3 years of a vegan diet, you need to start \n",
      "taking B12 supplements because b12 is found only in animals.) Acutally our \n",
      "bodies make B12, I think, but our bodies use up our own B12 after 2 or 3 \n",
      "years.  \n",
      "Lacto-oveo vegetarians, like myself, still get B12 through milk products \n",
      "and eggs, so we don't need supplements.\n",
      "And If anyone knows more, PLEASE post it.  I'm nearly contridicting myself \n",
      "with the mish-mash of knowledge I've gleaned.\n",
      "\n",
      "\n",
      "\n",
      "文本2(属于类别 - comp.graphics)：\n",
      "Hi,\n",
      "         I have a friend who is working on 2-d and 3-d object recognition. He is looking\n",
      "for references describing algorithms on the following subject areas:\n",
      "\n",
      "Thresholding\n",
      "Edge Segmentation\n",
      "Marr-Hildreth\n",
      "Sobel Operator\n",
      "Chain Codes\n",
      "Thinning - Skeletonising\n",
      "\n",
      "If anybody is willing to post an algorithm that they have implemented which demonstrates\n",
      "any of the above topics, it would be much appreciated.\n",
      "\n",
      "Please post all replies to my e-mail address. If requested I will post a summary to the\n",
      "newsgroup in a couple of weeks.\n",
      "\n",
      "\n",
      "Thanks in advance for all replies\n",
      "\n",
      "\n",
      "\n"
     ]
    }
   ],
   "source": [
    "### 输出前5个样本\n",
    "print (u' -- 前2个文本 -- ')\n",
    "for i in range(2):\n",
    "    print (u'文本%d(属于类别 - %s)：' % (i+1, categories[y_train[i]]))\n",
    "    print (x_train[i])\n",
    "    print ('\\n\\n')"
   ]
  },
  {
   "cell_type": "code",
   "execution_count": 65,
   "metadata": {
    "scrolled": false
   },
   "outputs": [
    {
     "name": "stdout",
     "output_type": "stream",
     "text": [
      "训练集样本个数：2034，特征个数：26576\n",
      "停止词:\n",
      "frozenset({'sometimes', 'how', 'their', 'between', 'before', 'cant', 'noone', 'whither', 'seem', 'detail', 'each', 'what', 'anyhow', 'another', 'very', 'due', 'found', 'were', 'next', 'whenever', 'sincere', 'six', 'an', 'now', 'towards', 'ie', 'please', 'our', 'therein', 'ever', 'other', 'move', 'bill', 'less', 'name', 'off', 'thereafter', 'more', 'both', 'go', 'until', 'whom', 'will', 'and', 'nine', 'nobody', 'she', 'show', 'to', 'we', 'not', 'top', 'already', 'been', 'couldnt', 'former', 'myself', 'put', 'de', 'sometime', 'made', 'which', 'un', 'therefore', 'only', 'together', 'many', 'become', 'may', 'nothing', 'someone', 'since', 'elsewhere', 'because', 'his', 'thru', 'twenty', 'keep', 'within', 'con', 'him', 'last', 'fifteen', 'eight', 'describe', 'twelve', 'could', 'something', 'although', 'forty', 'once', 'thence', 'be', 'serious', 'above', 'hundred', 'why', 'whereupon', 'system', 'whereby', 'are', 'find', 'during', 'or', 'ten', 'so', 'yet', 'some', 'all', 'whatever', 'hence', 'call', 'while', 'as', 'then', 'the', 'always', 'seeming', 'after', 'latterly', 'afterwards', 'down', 'except', 'around', 'inc', 'becoming', 'it', 'themselves', 'none', 'back', 'everyone', 'meanwhile', 'well', 'get', 'whereafter', 'when', 'behind', 'ours', 'full', 'else', 'mill', 'few', 'formerly', 'least', 'three', 'etc', 'throughout', 'front', 'a', 'would', 'somehow', 'take', 'through', 'five', 'my', 'though', 'is', 'i', 'he', 'along', 'one', 'seems', 'hereby', 'everywhere', 'own', 'however', 'those', 'moreover', 'from', 'same', 'thin', 'herself', 'do', 'namely', 'give', 'ltd', 'on', 'no', 'have', 'hers', 'somewhere', 'across', 'itself', 'anything', 'with', 'being', 'whole', 'where', 'ourselves', 'latter', 'nor', 'has', 'thus', 'must', 'herein', 'becomes', 'see', 'whoever', 'beyond', 'every', 'hasnt', 'also', 'anyway', 'done', 'here', 'never', 'anywhere', 'than', 'her', 'hereafter', 'first', 'am', 'cry', 'besides', 'others', 'himself', 'further', 'fifty', 'via', 're', 'wherever', 'otherwise', 'often', 'against', 'thereby', 'yourselves', 'beforehand', 'per', 'at', 'eleven', 'even', 'nowhere', 'can', 'mine', 'amongst', 'amoungst', 'them', 'up', 'us', 'you', 'into', 'in', 'without', 'beside', 'upon', 'under', 'fire', 'mostly', 'several', 'neither', 'any', 'me', 'still', 'two', 'enough', 'your', 'rather', 'eg', 'hereupon', 'but', 'of', 'everything', 'co', 'almost', 'such', 'out', 'interest', 'seemed', 'for', 'side', 'this', 'became', 'cannot', 'either', 'most', 'again', 'indeed', 'fill', 'nevertheless', 'yours', 'wherein', 'much', 'over', 'whence', 'third', 'alone', 'its', 'perhaps', 'onto', 'four', 'too', 'who', 'that', 'these', 'amount', 'they', 'sixty', 'whether', 'yourself', 'among', 'should', 'empty', 'anyone', 'thereupon', 'might', 'by', 'bottom', 'about', 'whose', 'thick', 'part', 'there', 'was', 'if', 'had', 'whereas', 'below', 'toward'})\n"
     ]
    }
   ],
   "source": [
    "### 文档转换为向量\n",
    "## 转换\n",
    "# 要求输入的数据类型必须是list，list中的每条数据，单词是以空格分割开的\n",
    "vectorizer = TfidfVectorizer(input='content', stop_words='english', max_df=0.5, sublinear_tf=True)\n",
    "x_train = vectorizer.fit_transform(data_train.data)  # x_train是稀疏的，scipy.sparse.csr.csr_matrix\n",
    "x_test = vectorizer.transform(data_test.data)\n",
    "print (u'训练集样本个数：%d，特征个数：%d' % x_train.shape)\n",
    "print (u'停止词:')\n",
    "print(vectorizer.get_stop_words())"
   ]
  },
  {
   "cell_type": "code",
   "execution_count": 66,
   "metadata": {},
   "outputs": [
    {
     "data": {
      "text/plain": [
       "array(['190', '1900', '1902', '1905', '1906', '1909', '1910', '1912',\n",
       "       '191344498719999910e', '1915'], dtype='<U80')"
      ]
     },
     "execution_count": 66,
     "metadata": {},
     "output_type": "execute_result"
    }
   ],
   "source": [
    "## 获取最终的特征属性名称\n",
    "feature_names = np.asarray(vectorizer.get_feature_names())\n",
    "feature_names[500:510]"
   ]
  },
  {
   "cell_type": "code",
   "execution_count": 67,
   "metadata": {},
   "outputs": [
    {
     "name": "stdout",
     "output_type": "stream",
     "text": [
      "目前特征数量： (26576,)\n",
      "显示部分特征： ['rectangle' 'rectangular' 'rectification' 'rectified' 'rectify'\n",
      " 'recurrant' 'recurse' 'recursive' 'recursively' 'recursiveness']\n"
     ]
    }
   ],
   "source": [
    "print(\"目前特征数量：\", feature_names.shape)\n",
    "print(\"显示部分特征：\", feature_names[20000:20010])"
   ]
  },
  {
   "cell_type": "code",
   "execution_count": 64,
   "metadata": {},
   "outputs": [
    {
     "data": {
      "text/plain": [
       "array([  466,   581,   595,   718,   761,   781,   815,   831,   932,\n",
       "         949,   994,  1032,  1066,  1122,  1145,  1151,  1152,  1205,\n",
       "        1295,  1335,  1363,  1537,  1571,  1592,  1649,  2036,  2423,\n",
       "        2436,  2486,  2578,  2601,  2605,  2606,  2621,  2666,  2712,\n",
       "        2739,  2762,  2794,  2863,  2865,  2866,  2888,  2890,  2936,\n",
       "        2938,  2976,  3001,  3017,  3020,  3034,  3037,  3050,  3094,\n",
       "        3104,  3110,  3158,  3163,  3180,  3182,  3252,  3269,  3270,\n",
       "        3272,  3276,  3277,  3327,  3335,  3346,  3370,  3417,  3438,\n",
       "        3481,  3509,  3557,  3579,  3590,  3596,  3597,  3599,  3695,\n",
       "        3737,  3788,  3800,  3808,  3814,  3817,  3834,  3835,  3838,\n",
       "        3845,  3859,  3960,  3964,  3998,  4042,  4135,  4154,  4156,\n",
       "        4211,  4246,  4255,  4305,  4312,  4356,  4358,  4363,  4372,\n",
       "        4373,  4375,  4376,  4378,  4380,  4383,  4410,  4475,  4496,\n",
       "        4500,  4538,  4543,  4580,  4612,  4634,  4644,  4667,  4693,\n",
       "        4718,  4731,  4732,  4734,  4759,  4819,  4930,  4969,  4986,\n",
       "        4989,  4999,  5022,  5049,  5066,  5068,  5072,  5080,  5137,\n",
       "        5139,  5169,  5195,  5196,  5221,  5232,  5371,  5374,  5378,\n",
       "        5452,  5478,  5524,  5565,  5569,  5636,  5658,  5711,  5733,\n",
       "        5736,  5746,  5785,  5786,  5792,  5797,  5799,  5837,  5843,\n",
       "        5845,  5846,  5868,  5901,  5935,  5939,  5989,  6108,  6117,\n",
       "        6120,  6168,  6212,  6217,  6226,  6231,  6264,  6275,  6284,\n",
       "        6285,  6299,  6346,  6351,  6414,  6415,  6471,  6496,  6541,\n",
       "        6545,  6616,  6671,  6678,  6761,  6782,  6785,  6816,  6821,\n",
       "        6822,  6825,  6843,  6854,  6867,  6868,  6869,  6873,  6876,\n",
       "        6931,  7003,  7009,  7011,  7034,  7054,  7093,  7123,  7127,\n",
       "        7147,  7154,  7181,  7207,  7222,  7225,  7304,  7309,  7336,\n",
       "        7349,  7351,  7374,  7427,  7506,  7531,  7535,  7542,  7554,\n",
       "        7573,  7584,  7588,  7620,  7721,  7728,  7729,  7764,  7768,\n",
       "        7775,  7778,  7779,  7801,  7870,  7899,  7948,  7981,  8039,\n",
       "        8095,  8125,  8127,  8130,  8131,  8171,  8218,  8235,  8324,\n",
       "        8389,  8392,  8393,  8462,  8539,  8544,  8555,  8572,  8576,\n",
       "        8591,  8611,  8662,  8671,  8673,  8707,  8708,  8730,  8823,\n",
       "        8830,  8857,  8921,  8933,  8993,  8998,  9029,  9110,  9228,\n",
       "        9232,  9252,  9271,  9273,  9297,  9440,  9570,  9573,  9658,\n",
       "        9663,  9669,  9675,  9694,  9747,  9777,  9782,  9861,  9966,\n",
       "        9988,  9992, 10035, 10047, 10053, 10054, 10079, 10104, 10112,\n",
       "       10113, 10122, 10127, 10147, 10168, 10176, 10202, 10283, 10284,\n",
       "       10286, 10289, 10317, 10341, 10353, 10361, 10431, 10432, 10452,\n",
       "       10480, 10520, 10523, 10537, 10605, 10609, 10629, 10666, 10667,\n",
       "       10676, 10693, 10720, 10733, 10798, 10806, 10836, 10839, 10843,\n",
       "       10847, 10849, 10907, 10917, 10933, 10940, 10972, 10992, 10999,\n",
       "       11048, 11102, 11126, 11163, 11209, 11282, 11287, 11291, 11298,\n",
       "       11342, 11343, 11357, 11365, 11374, 11384, 11441, 11444, 11477,\n",
       "       11480, 11488, 11506, 11526, 11565, 11795, 11797, 11849, 11918,\n",
       "       11973, 11976, 11979, 11981, 11995, 12030, 12050, 12052, 12059,\n",
       "       12073, 12084, 12094, 12127, 12142, 12196, 12213, 12235, 12236,\n",
       "       12309, 12324, 12346, 12363, 12371, 12378, 12388, 12463, 12465,\n",
       "       12506, 12521, 12534, 12578, 12614, 12617, 12642, 12652, 12662,\n",
       "       12703, 12744, 12747, 12860, 12927, 12950, 12995, 13010, 13023,\n",
       "       13041, 13100, 13155, 13175, 13183, 13202, 13211, 13224, 13272,\n",
       "       13276, 13321, 13338, 13339, 13489, 13526, 13535, 13536, 13543,\n",
       "       13562, 13708, 13716, 13717, 13733, 13764, 13775, 13790, 13794,\n",
       "       13816, 13827, 13835, 13841, 13896, 13908, 13932, 13989, 14006,\n",
       "       14036, 14037, 14043, 14068, 14069, 14073, 14097, 14135, 14193,\n",
       "       14238, 14284, 14298, 14316, 14356, 14357, 14359, 14401, 14402,\n",
       "       14403, 14405, 14411, 14419, 14455, 14502, 14564, 14572, 14632,\n",
       "       14649, 14652, 14653, 14675, 14678, 14683, 14689, 14737, 14740,\n",
       "       14745, 14762, 14770, 14772, 14813, 14833, 14869, 14871, 14884,\n",
       "       14893, 14913, 14951, 14957, 14960, 14962, 14994, 15002, 15013,\n",
       "       15014, 15016, 15062, 15075, 15107, 15125, 15167, 15202, 15209,\n",
       "       15215, 15235, 15264, 15288, 15301, 15316, 15355, 15382, 15403,\n",
       "       15417, 15422, 15443, 15461, 15473, 15521, 15532, 15551, 15557,\n",
       "       15560, 15649, 15671, 15679, 15707, 15749, 15823, 15846, 15854,\n",
       "       15891, 15911, 15934, 16006, 16009, 16088, 16111, 16154, 16169,\n",
       "       16173, 16208, 16219, 16222, 16224, 16233, 16235, 16236, 16258,\n",
       "       16288, 16315, 16319, 16327, 16338, 16342, 16351, 16369, 16409,\n",
       "       16436, 16437, 16523, 16536, 16539, 16546, 16557, 16575, 16586,\n",
       "       16624, 16632, 16697, 16789, 16790, 16972, 17016, 17030, 17042,\n",
       "       17062, 17079, 17107, 17108, 17114, 17128, 17215, 17223, 17232,\n",
       "       17288, 17291, 17350, 17413, 17414, 17417, 17419, 17420, 17425,\n",
       "       17433, 17485, 17486, 17498, 17510, 17528, 17559, 17654, 17686,\n",
       "       17688, 17697, 17717, 17745, 17791, 17816, 17881, 17895, 17908,\n",
       "       17952, 17953, 17964, 17977, 17978, 17989, 18024, 18046, 18066,\n",
       "       18130, 18141, 18144, 18145, 18159, 18187, 18198, 18228, 18248,\n",
       "       18286, 18320, 18335, 18371, 18410, 18412, 18441, 18444, 18466,\n",
       "       18467, 18531, 18572, 18575, 18613, 18617, 18623, 18626, 18669,\n",
       "       18676, 18699, 18734, 18744, 18750, 18762, 18764, 18769, 18771,\n",
       "       18797, 18866, 18877, 18914, 18942, 19000, 19005, 19036, 19064,\n",
       "       19065, 19076, 19094, 19113, 19141, 19149, 19153, 19154, 19167,\n",
       "       19176, 19187, 19257, 19295, 19297, 19358, 19372, 19421, 19422,\n",
       "       19425, 19566, 19590, 19607, 19609, 19611, 19612, 19625, 19642,\n",
       "       19648, 19659, 19698, 19788, 19795, 19798, 19804, 19877, 19890,\n",
       "       19896, 19947, 20021, 20187, 20193, 20196, 20230, 20232, 20234,\n",
       "       20246, 20260, 20294, 20296, 20363, 20441, 20490, 20509, 20580,\n",
       "       20584, 20592, 20646, 20691, 20725, 20729, 20741, 20790, 20793,\n",
       "       20794, 20811, 20835, 20857, 20859, 20865, 20868, 20896, 20898,\n",
       "       20928, 20947, 20988, 20992, 21001, 21008, 21009, 21034, 21038,\n",
       "       21049, 21057, 21058, 21072, 21084, 21091, 21108, 21110, 21146,\n",
       "       21168, 21176, 21177, 21195, 21205, 21212, 21217, 21219, 21221,\n",
       "       21241, 21296, 21311, 21334, 21355, 21368, 21385, 21386, 21410,\n",
       "       21418, 21424, 21466, 21485, 21518, 21545, 21553, 21588, 21649,\n",
       "       21663, 21674, 21680, 21690, 21692, 21706, 21713, 21747, 21764,\n",
       "       21847, 21877, 21921, 21965, 21990, 22003, 22050, 22145, 22155,\n",
       "       22185, 22203, 22212, 22232, 22241, 22318, 22323, 22343, 22346,\n",
       "       22351, 22362, 22412, 22425, 22465, 22472, 22479, 22499, 22519,\n",
       "       22585, 22601, 22623, 22633, 22650, 22660, 22685, 22698, 22718,\n",
       "       22719, 22724, 22741, 22880, 22883, 22931, 22957, 22965, 22984,\n",
       "       22996, 23034, 23036, 23152, 23209, 23211, 23301, 23303, 23320,\n",
       "       23331, 23332, 23365, 23422, 23432, 23567, 23576, 23580, 23603,\n",
       "       23643, 23645, 23650, 23654, 23666, 23667, 23682, 23700, 23704,\n",
       "       23715, 23718, 23729, 23788, 23799, 23800, 23825, 23835, 23844,\n",
       "       23846, 23848, 23857, 23863, 23865, 23927, 23962, 23974, 23997,\n",
       "       24000, 24045, 24047, 24074, 24081, 24101, 24162, 24168, 24253,\n",
       "       24269, 24420, 24472, 24506, 24523, 24541, 24645, 24702, 24875,\n",
       "       24925, 25084, 25086, 25108, 25123, 25153, 25203, 25254, 25323,\n",
       "       25343, 25369, 25414, 25416, 25425, 25431, 25446, 25462, 25473,\n",
       "       25491, 25494, 25495, 25525, 25537, 25540, 25573, 25712, 25796,\n",
       "       25816, 25841, 25853, 25854, 25899, 25917, 25973, 26053, 26056,\n",
       "       26063, 26071, 26092, 26102, 26119, 26131, 26150, 26155, 26166,\n",
       "       26173, 26192, 26193, 26195, 26196, 26197, 26211, 26212, 26248,\n",
       "       26252, 26258, 26331, 26377, 26427, 26428, 26431, 26457, 26523,\n",
       "       26532], dtype=int64)"
      ]
     },
     "execution_count": 64,
     "metadata": {},
     "output_type": "execute_result"
    }
   ],
   "source": [
    "## 特征选择\n",
    "ch2 = SelectKBest(chi2, k=1000)\n",
    "x_train = ch2.fit_transform(x_train, y_train)\n",
    "x_test = ch2.transform(x_test)\n",
    "ch2.get_support(indices=True)"
   ]
  },
  {
   "cell_type": "code",
   "execution_count": 68,
   "metadata": {},
   "outputs": [
    {
     "name": "stdout",
     "output_type": "stream",
     "text": [
      "目前特征数量： 1000\n",
      "显示部分特征索引： ['lee', 'leo', 'lesbian', 'liar', 'liberty', 'libraries', 'library', 'liek', 'life', 'lifestyle']\n"
     ]
    }
   ],
   "source": [
    "feature_names = [feature_names[i] for i in ch2.get_support(indices=True)]\n",
    "print(\"目前特征数量：\", len(feature_names))\n",
    "print(\"显示部分特征索引：\", feature_names[500:510])"
   ]
  },
  {
   "cell_type": "code",
   "execution_count": 69,
   "metadata": {},
   "outputs": [],
   "source": [
    "###  基准模型方法\n",
    "def benchmark(clf,name):\n",
    "    # 输出此时采用的分类器\n",
    "    print (u'分类器：', clf)\n",
    "    \n",
    "    ## 设置最优参数，并使用5折交叉验证获取最优参数值\n",
    "    alpha_can = np.logspace(-2, 1, 10)\n",
    "    model = GridSearchCV(clf, param_grid={'alpha': alpha_can}, cv=5)\n",
    "    m = alpha_can.size\n",
    "    \n",
    "    ## 如果模型有一个参数是alpha，进行设置\n",
    "    if hasattr(clf, 'alpha'):\n",
    "        model.set_params(param_grid={'alpha': alpha_can})\n",
    "        m = alpha_can.size\n",
    "    ## 如果模型有一个k近邻的参数，进行设置\n",
    "    if hasattr(clf, 'n_neighbors'):\n",
    "        neighbors_can = np.arange(1, 15)\n",
    "        model.set_params(param_grid={'n_neighbors': neighbors_can})\n",
    "        m = neighbors_can.size\n",
    "    ## LinearSVC最优参数配置\n",
    "    if hasattr(clf, 'C'):\n",
    "        C_can = np.logspace(1, 3, 3)\n",
    "        model.set_params(param_grid={'C':C_can})\n",
    "        m = C_can.size\n",
    "    ## SVM最优参数设置\n",
    "    if hasattr(clf, 'C') & hasattr(clf, 'gamma'):\n",
    "        C_can = np.logspace(1, 3, 3)\n",
    "        gamma_can = np.logspace(-3, 0, 3)\n",
    "        model.set_params(param_grid={'C':C_can, 'gamma':gamma_can})\n",
    "        m = C_can.size * gamma_can.size\n",
    "    ## 设置深度相关参数，决策树\n",
    "    if hasattr(clf, 'max_depth'):\n",
    "        max_depth_can = np.arange(4, 10)\n",
    "        model.set_params(param_grid={'max_depth': max_depth_can})\n",
    "        m = max_depth_can.size\n",
    "    \n",
    "    ## 模型训练\n",
    "    t_start = time()\n",
    "    model.fit(x_train, y_train)\n",
    "    t_end = time()\n",
    "    t_train = (t_end - t_start) / (5*m)\n",
    "    print (u'5折交叉验证的训练时间为：%.3f秒/(5*%d)=%.3f秒' % ((t_end - t_start), m, t_train))\n",
    "    print (u'最优超参数为：', model.best_params_)\n",
    "    \n",
    "    ## 模型预测\n",
    "    t_start = time()\n",
    "    y_hat = model.predict(x_test)\n",
    "    t_end = time()\n",
    "    t_test = t_end - t_start\n",
    "    print (u'测试时间：%.3f秒' % t_test)\n",
    "    \n",
    "    ## 模型效果评估\n",
    "    train_acc = metrics.accuracy_score(y_train, model.predict(x_train))\n",
    "    test_acc = metrics.accuracy_score(y_test, y_hat)\n",
    "    print (u'训练集准确率：%.2f%%' % (100 * train_acc))\n",
    "    print (u'测试集准确率：%.2f%%' % (100 * test_acc))\n",
    "    \n",
    "    ## 返回结果(训练时间耗时，预测数据耗时，训练数据错误率，测试数据错误率, 名称)\n",
    "    return t_train, t_test, 1-train_acc, 1-test_acc, name"
   ]
  },
  {
   "cell_type": "code",
   "execution_count": 75,
   "metadata": {
    "scrolled": false
   },
   "outputs": [
    {
     "name": "stdout",
     "output_type": "stream",
     "text": [
      "分类器的比较：\n",
      "\n",
      "分类器： RidgeClassifier(alpha=1.0, class_weight=None, copy_X=True, fit_intercept=True,\n",
      "        max_iter=None, normalize=False, random_state=None, solver='auto',\n",
      "        tol=0.001)\n",
      "5折交叉验证的训练时间为：11.089秒/(5*10)=0.222秒\n",
      "最优超参数为： {'alpha': 1.0}\n",
      "测试时间：0.001秒\n",
      "训练集准确率：97.84%\n",
      "测试集准确率：77.75%\n",
      "\n",
      "\n",
      "分类器： KNeighborsClassifier(algorithm='auto', leaf_size=30, metric='minkowski',\n",
      "           metric_params=None, n_jobs=1, n_neighbors=5, p=2,\n",
      "           weights='uniform')\n",
      "5折交叉验证的训练时间为：8.081秒/(5*14)=0.115秒\n",
      "最优超参数为： {'n_neighbors': 2}\n",
      "测试时间：0.081秒\n",
      "训练集准确率：97.79%\n",
      "测试集准确率：31.86%\n",
      "\n",
      "\n",
      "分类器： MultinomialNB(alpha=1.0, class_prior=None, fit_prior=True)\n",
      "5折交叉验证的训练时间为：0.304秒/(5*10)=0.006秒\n",
      "最优超参数为： {'alpha': 0.01}\n",
      "测试时间：0.001秒\n",
      "训练集准确率：97.20%\n",
      "测试集准确率：78.79%\n",
      "\n",
      "\n",
      "分类器： BernoulliNB(alpha=1.0, binarize=0.0, class_prior=None, fit_prior=True)\n",
      "5折交叉验证的训练时间为：0.409秒/(5*10)=0.008秒\n",
      "最优超参数为： {'alpha': 0.01}\n",
      "测试时间：0.003秒\n",
      "训练集准确率：90.36%\n",
      "测试集准确率：72.21%\n",
      "\n",
      "\n",
      "分类器： RandomForestClassifier(bootstrap=True, class_weight=None, criterion='gini',\n",
      "            max_depth=None, max_features='auto', max_leaf_nodes=None,\n",
      "            min_impurity_decrease=0.0, min_impurity_split=None,\n",
      "            min_samples_leaf=1, min_samples_split=2,\n",
      "            min_weight_fraction_leaf=0.0, n_estimators=200, n_jobs=1,\n",
      "            oob_score=False, random_state=None, verbose=0,\n",
      "            warm_start=False)\n",
      "5折交叉验证的训练时间为：19.771秒/(5*6)=0.659秒\n",
      "最优超参数为： {'max_depth': 9}\n",
      "测试时间：0.069秒\n",
      "训练集准确率：74.88%\n",
      "测试集准确率：65.11%\n",
      "\n",
      "\n",
      "分类器： SVC(C=1.0, cache_size=200, class_weight=None, coef0=0.0,\n",
      "  decision_function_shape='ovr', degree=3, gamma='auto', kernel='rbf',\n",
      "  max_iter=-1, probability=False, random_state=None, shrinking=True,\n",
      "  tol=0.001, verbose=False)\n",
      "5折交叉验证的训练时间为：109.253秒/(5*9)=2.428秒\n",
      "最优超参数为： {'C': 1000.0, 'gamma': 0.001}\n",
      "测试时间：0.777秒\n",
      "训练集准确率：97.84%\n",
      "测试集准确率：76.42%\n",
      "\n",
      "\n",
      "分类器： LinearSVC(C=1.0, class_weight=None, dual=False, fit_intercept=True,\n",
      "     intercept_scaling=1, loss='squared_hinge', max_iter=1000,\n",
      "     multi_class='ovr', penalty='l1', random_state=None, tol=0.0001,\n",
      "     verbose=0)\n",
      "5折交叉验证的训练时间为：18.433秒/(5*3)=1.229秒\n",
      "最优超参数为： {'C': 1000.0}\n",
      "测试时间：0.000秒\n",
      "训练集准确率：97.84%\n",
      "测试集准确率：75.39%\n",
      "\n",
      "\n",
      "分类器： LinearSVC(C=1.0, class_weight=None, dual=False, fit_intercept=True,\n",
      "     intercept_scaling=1, loss='squared_hinge', max_iter=1000,\n",
      "     multi_class='ovr', penalty='l2', random_state=None, tol=0.0001,\n",
      "     verbose=0)\n",
      "5折交叉验证的训练时间为：3.194秒/(5*3)=0.213秒\n",
      "最优超参数为： {'C': 100.0}\n",
      "测试时间：0.001秒\n",
      "训练集准确率：97.84%\n",
      "测试集准确率：77.68%\n",
      "\n",
      "\n"
     ]
    }
   ],
   "source": [
    "### 使用不同的分类器对数据进行比较\n",
    "print (u'分类器的比较：\\n')\n",
    "clfs = [\n",
    "    [RidgeClassifier(), 'Ridge'],        # 岭回归\n",
    "    [KNeighborsClassifier(), 'KNN'],     # KNN\n",
    "    [MultinomialNB(), 'MultinomialNB'],  # 多项式朴素贝叶斯\n",
    "    [BernoulliNB(), 'BernoulliNB'],      # 伯努利朴素贝叶斯\n",
    "    [RandomForestClassifier(n_estimators=200), 'RandomForest'],  # 随机森林\n",
    "    [SVC(), 'SVM'],  # svm\n",
    "    [LinearSVC(loss='squared_hinge', penalty='l1', dual=False, tol=1e-4), 'LinearSVC-l1'],\n",
    "    [LinearSVC(loss='squared_hinge', penalty='l2', dual=False, tol=1e-4), 'LinearSVC-l2']\n",
    "]\n",
    "\n",
    "## 将训练数据保存到一个列表中\n",
    "result = []\n",
    "for clf,name in clfs:\n",
    "    # 计算算法结果\n",
    "    a = benchmark(clf,name)\n",
    "    # 追加到一个列表中，方便进行展示操作\n",
    "    result.append(a)\n",
    "    print ('\\n')\n",
    "## 将列表转换为数组\n",
    "result = np.array(result)"
   ]
  },
  {
   "cell_type": "code",
   "execution_count": 76,
   "metadata": {},
   "outputs": [],
   "source": [
    "### 获取需要画图的数据\n",
    "result = [[x[i] for x in result] for i in range(5)]\n",
    "training_time, test_time, training_err, test_err, clf_names = result\n",
    "\n",
    "training_time = np.array(training_time).astype(np.float)\n",
    "test_time = np.array(test_time).astype(np.float)\n",
    "training_err = np.array(training_err).astype(np.float)\n",
    "test_err = np.array(test_err).astype(np.float)"
   ]
  },
  {
   "cell_type": "code",
   "execution_count": 77,
   "metadata": {},
   "outputs": [
    {
     "data": {
      "image/png": "[encoded data removed]",
      "text/plain": [
       "<Figure size 720x504 with 2 Axes>"
      ]
     },
     "metadata": {},
     "output_type": "display_data"
    }
   ],
   "source": [
    "### 画图\n",
    "x = np.arange(len(training_time))\n",
    "plt.figure(figsize=(10, 7), facecolor='w')\n",
    "ax = plt.axes()\n",
    "b0 = ax.bar(x+0.1, training_err, width=0.2, color='#77E0A0')\n",
    "b1 = ax.bar(x+0.3, test_err, width=0.2, color='#8800FF')\n",
    "ax2 = ax.twinx()\n",
    "b2 = ax2.bar(x+0.5, training_time, width=0.2, color='#FFA0A0')\n",
    "b3 = ax2.bar(x+0.7, test_time, width=0.2, color='#FF8080')\n",
    "plt.xticks(x+0.5, clf_names)\n",
    "plt.legend([b0[0], b1[0], b2[0], b3[0]], (u'训练集错误率', u'测试集错误率', u'训练时间', u'测试时间'), loc='upper left', shadow=True)\n",
    "plt.title(u'新闻组文本数据分类及不同分类器效果比较', fontsize=18)\n",
    "plt.xlabel(u'分类器名称')\n",
    "plt.grid(True)\n",
    "plt.tight_layout(2)\n",
    "plt.show()"
   ]
  },
  {
   "cell_type": "code",
   "execution_count": null,
   "metadata": {},
   "outputs": [],
   "source": []
  }
 ],
 "metadata": {
  "kernelspec": {
   "display_name": "Python 3",
   "language": "python",
   "name": "python3"
  },
  "language_info": {
   "codemirror_mode": {
    "name": "ipython",
    "version": 3
   },
   "file_extension": ".py",
   "mimetype": "text/x-python",
   "name": "python",
   "nbconvert_exporter": "python",
   "pygments_lexer": "ipython3",
   "version": "3.7.3"
  }
 },
 "nbformat": 4,
 "nbformat_minor": 1
}
